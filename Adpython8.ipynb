{
 "cells": [
  {
   "cell_type": "markdown",
   "id": "7ff0ed1c",
   "metadata": {},
   "source": [
    "Q1. What are the two latest user-defined exception constraints in Python 3.X?"
   ]
  },
  {
   "cell_type": "markdown",
   "id": "980ad7a8",
   "metadata": {},
   "source": [
    "In Python 3.x, two new exception-related features have been introduced:\n",
    "\n",
    "Exception chaining: Exception chaining allows one exception to be raised in response to another exception. This can be useful when you want to provide more context about an error that occurred. To chain exceptions, you can use the raise statement with two arguments: the new exception you want to raise, and the original exception that caused it.\n",
    "\n",
    "Exception context: Exception context allows you to attach additional information to an exception, which can be useful for debugging. You can add context to an exception by creating a subclass of the built-in Exception class and adding any additional attributes you want to include."
   ]
  },
  {
   "cell_type": "markdown",
   "id": "1e3d7950",
   "metadata": {},
   "source": [
    "\n",
    "Q2. How are class-based exceptions that have been raised matched to handlers?\n"
   ]
  },
  {
   "cell_type": "markdown",
   "id": "82c85e90",
   "metadata": {},
   "source": [
    "In Python, when an exception is raised, the interpreter first checks to see if there is a matching except block in the current function or method that can handle the exception. If there is no matching handler, the interpreter continues to search for a handler in the calling functions, and so on up the call stack.\n",
    "\n",
    "If no handler is found at all, the interpreter prints a traceback and terminates the program.\n",
    "\n",
    "When using class-based exceptions, the interpreter matches the raised exception to a handler by checking the exception type against the type specified in the except block. If the raised exception is an instance of the specified type, or a subclass of it, the handler is considered a match and is executed."
   ]
  },
  {
   "cell_type": "markdown",
   "id": "74f2b80d",
   "metadata": {},
   "source": [
    "\n",
    "\n",
    "Q3. Describe two methods for attaching context information to exception artefacts.\n"
   ]
  },
  {
   "cell_type": "markdown",
   "id": "5d651ef2",
   "metadata": {},
   "source": [
    "In Python, there are a few methods for attaching context information to exception artifacts:\n",
    "\n",
    "Using the args attribute: Exception objects in Python have an args attribute that is typically a tuple containing any arguments passed to the exception constructor. You can add context information to this tuple by creating a new tuple that includes the existing arguments plus any additional information you want to include. \n",
    "\n",
    "Creating custom exception classes: Another way to attach context information to exceptions is to define your own exception classes that include additional attributes or methods."
   ]
  },
  {
   "cell_type": "markdown",
   "id": "6c1265fa",
   "metadata": {},
   "source": [
    "Q4. Describe two methods for specifying the text of an exception object's error message."
   ]
  },
  {
   "cell_type": "markdown",
   "id": "e88c3823",
   "metadata": {},
   "source": [
    "\n",
    "There are a few ways to specify the text of an exception object's error message in Python:\n",
    "\n",
    "Define a custom exception class and override its __str__ method: When an exception object of this custom class is raised, its __str__ method will be called, and the returned string will be used as the error message.\n",
    "\n",
    "\n",
    "Pass a string argument to the exception constructor: When you create an exception object, you can pass a string argument to the constructor to specify the error message. "
   ]
  },
  {
   "cell_type": "code",
   "execution_count": null,
   "id": "e9468caa",
   "metadata": {},
   "outputs": [],
   "source": []
  }
 ],
 "metadata": {
  "kernelspec": {
   "display_name": "Python 3 (ipykernel)",
   "language": "python",
   "name": "python3"
  },
  "language_info": {
   "codemirror_mode": {
    "name": "ipython",
    "version": 3
   },
   "file_extension": ".py",
   "mimetype": "text/x-python",
   "name": "python",
   "nbconvert_exporter": "python",
   "pygments_lexer": "ipython3",
   "version": "3.10.9"
  }
 },
 "nbformat": 4,
 "nbformat_minor": 5
}
