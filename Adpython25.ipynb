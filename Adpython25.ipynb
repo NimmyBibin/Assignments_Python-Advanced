{
 "cells": [
  {
   "cell_type": "markdown",
   "id": "e622a9f1",
   "metadata": {},
   "source": [
    "Q1. What is the distinction between a numpy array and a pandas data frame? Is there a way to convert between the two if there is?"
   ]
  },
  {
   "cell_type": "markdown",
   "id": "b1d0c0cc",
   "metadata": {},
   "source": [
    "\n",
    "NumPy arrays and Pandas data frames are both data structures commonly used in data analysis and scientific computing, but they have some key differences.\n",
    "\n",
    "NumPy arrays are homogeneous, multi-dimensional arrays with a fixed size. They are optimized for numerical operations and have a number of built-in functions for math operations such as linear algebra and statistical analysis. They are also fast and memory-efficient, making them useful for working with large datasets.\n",
    "\n",
    "Pandas data frames, on the other hand, are more flexible and can hold data of different types (e.g. integers, floats, strings, and even other objects) in tabular form. They are optimized for data manipulation, cleaning, and analysis, with many functions for data aggregation, filtering, and reshaping.\n",
    "\n",
    "While NumPy arrays are better suited for mathematical operations and numerical analysis, Pandas data frames are more appropriate for data cleaning, exploration, and analysis.\n",
    "\n",
    "You can convert a NumPy array to a Pandas data frame using the pd.DataFrame() function from the Pandas library, and you can convert a Pandas data frame to a NumPy array using the .values attribute"
   ]
  },
  {
   "cell_type": "markdown",
   "id": "0d0766d6",
   "metadata": {},
   "source": [
    "\n",
    "\n",
    "Q2. What can go wrong when an user enters in a stock-ticker symbol, and how do you handle it?\n"
   ]
  },
  {
   "cell_type": "markdown",
   "id": "4d74cffb",
   "metadata": {},
   "source": [
    "When a user enters a stock-ticker symbol, there are several things that can go wrong. Some common issues include:\n",
    "\n",
    "Entering an invalid or non-existent stock ticker symbol: Users may enter a symbol that does not exist or is not recognized by the financial exchange, resulting in an error message.\n",
    "\n",
    "Entering a symbol for a different stock: Users may enter the wrong ticker symbol for the stock they want to look up, resulting in incorrect information being displayed.\n",
    "\n",
    "Entering a symbol that is not traded on the selected exchange: Different exchanges may have different listings of stocks, and users may enter a symbol that is not traded on the selected exchange, resulting in an error message.\n",
    "\n",
    "To handle these issues, we can implement the following steps:\n",
    "\n",
    "Validate the user input: We can use regular expressions or a pre-defined list of stock ticker symbols to ensure that the user enters a valid ticker symbol.\n",
    "\n",
    "Use an API or data provider: To ensure that we are getting the correct information for a stock, we can use a reliable API or data provider. This will also help us handle issues related to different stock exchanges.\n",
    "\n",
    "Provide error messages: If the user enters an invalid or non-existent stock ticker symbol or the symbol is not traded on the selected exchange, we can provide an error message explaining the issue and asking the user to enter a valid symbol.\n",
    "\n",
    "Implement auto-suggest or auto-complete functionality: To help users enter the correct symbol, we can implement auto-suggest or auto-complete functionality that suggests valid symbols based on the user's input.\n",
    "\n",
    "By implementing these steps, we can provide a better user experience and ensure that the information displayed is accurate and reliable."
   ]
  },
  {
   "cell_type": "markdown",
   "id": "0f84f37d",
   "metadata": {},
   "source": [
    "Q3. Identify some of the plotting techniques that are used to produce a stock-market chart."
   ]
  },
  {
   "cell_type": "markdown",
   "id": "abe08be0",
   "metadata": {},
   "source": [
    "There are several plotting techniques that are commonly used to produce a stock-market chart. Some of the most popular techniques include:\n",
    "\n",
    "Line charts: Line charts are the simplest and most commonly used technique for stock-market charts. They show the trend of a stock's price over time, with each data point represented as a point on the chart and connected by a line.\n",
    "\n",
    "Candlestick charts: Candlestick charts are a more advanced technique that provides more information about the stock's price movements. They show the open, high, low, and closing prices for each time period (e.g. day, week, month) as a rectangle or \"candlestick\". The color of the candlestick can indicate whether the stock price went up or down during that time period.\n",
    "\n",
    "Bar charts: Bar charts are similar to candlestick charts, but they only show the opening and closing prices for each time period as a vertical bar. The top of the bar represents the high price and the bottom represents the low price.\n",
    "\n",
    "Area charts: Area charts are similar to line charts, but they show the area under the line filled with color. This can be useful for visualizing the total value of a stock over time.\n",
    "\n",
    "Scatter plots: Scatter plots are used to show the relationship between two variables, such as the price of a stock and the volume of shares traded. Each data point is represented as a point on the chart, and the position of the point represents the values of the two variables.\n",
    "\n",
    "Heat maps: Heat maps are used to visualize large amounts of data by using color to represent the values of the data. For example, a heat map could show the daily closing prices for multiple stocks over a year, with each cell colored according to the price value."
   ]
  },
  {
   "cell_type": "markdown",
   "id": "279df749",
   "metadata": {},
   "source": [
    "Q4. Why is it essential to print a legend on a stock market chart?"
   ]
  },
  {
   "cell_type": "markdown",
   "id": "569f8837",
   "metadata": {},
   "source": [
    "It is essential to print a legend on a stock market chart because it provides a key to understanding the various elements represented on the chart. A legend is typically a box or a section of the chart that lists the different lines, colors, or markers used in the chart and what they represent.\n",
    "\n",
    "In a stock market chart, the legend will typically provide information about the different data series plotted on the chart, such as the price or volume of a particular stock over time, as well as any technical indicators or trend lines that have been added to the chart. Without a legend, it can be difficult to understand what each element of the chart represents, making it harder to interpret the data and draw meaningful conclusions.\n",
    "\n",
    "A well-designed legend should be easy to read and understand, with clear labels and symbols that are consistent with the data series they represent. It should also be located in a prominent position on the chart so that it is easy to find and reference. By including a clear and informative legend on a stock market chart, we can ensure that users can quickly and easily understand the data and make informed decisions based on the information presented."
   ]
  },
  {
   "cell_type": "markdown",
   "id": "82cf188c",
   "metadata": {},
   "source": [
    "Q5. What is the best way to limit the length of a pandas data frame to less than a year?"
   ]
  },
  {
   "cell_type": "markdown",
   "id": "f29794cd",
   "metadata": {},
   "source": [
    "\n",
    "1. Using datetime indexing: If the date column in the DataFrame is already formatted as a datetime object, we can use datetime indexing to select only the rows that fall within a specific date range. For example, to select only the rows from the last year, we can use the following code:\n",
    "\n",
    "   ```\n",
    "   import pandas as pd\n",
    "   from datetime import datetime, timedelta\n",
    "   \n",
    "   # create a DataFrame with a date column\n",
    "   df = pd.DataFrame({'date': pd.date_range(start='2022-01-01', end='2023-05-13'), 'value': range(1, 501)})\n",
    "   \n",
    "   # filter the DataFrame to only include rows from the last year\n",
    "   last_year = df[df['date'] >= datetime.now() - timedelta(days=365)]\n",
    "   ```\n",
    "\n",
    "   This code creates a DataFrame with a date column spanning from 2022-01-01 to 2023-05-13, then filters the DataFrame to only include rows from the last year by selecting all rows where the date is greater than or equal to the current date minus 365 days.\n",
    "\n",
    "2. Using pandas DateOffset: If the date column in the DataFrame is not already formatted as a datetime object, we can convert it using the `to_datetime` function and then use the `DateOffset` function to select a specific date range. For example, to select only the rows from the last year, we can use the following code:\n",
    "\n",
    "   ```\n",
    "   import pandas as pd\n",
    "   \n",
    "   # create a DataFrame with a date column\n",
    "   df = pd.DataFrame({'date': ['2022-01-01', '2022-01-02', '2022-01-03', '2023-05-13'], 'value': range(1, 5)})\n",
    "   \n",
    "   # convert the date column to a datetime object\n",
    "   df['date'] = pd.to_datetime(df['date'])\n",
    "   \n",
    "   # filter the DataFrame to only include rows from the last year\n",
    "   last_year = df[df['date'] >= pd.to_datetime('today') - pd.DateOffset(years=1)]\n",
    "   ```\n",
    "\n",
    "   This code creates a DataFrame with a date column spanning from 2022-01-01 to 2023-05-13, converts the date column to a datetime object using the `to_datetime` function, then filters the DataFrame to only include rows from the last year by selecting all rows where the date is greater than or equal to the current date minus one year.\n",
    "\n"
   ]
  },
  {
   "cell_type": "markdown",
   "id": "9a7019c6",
   "metadata": {},
   "source": [
    "Q6. What is the definition of a 180-day moving average?"
   ]
  },
  {
   "cell_type": "markdown",
   "id": "00b1d973",
   "metadata": {},
   "source": [
    "A6. A 180-day moving average is a technical indicator used in financial analysis that calculates the average price of a security over the past 180 trading days. \n",
    "\n",
    "To calculate the 180-day moving average, we take the sum of the closing prices of the security over the past 180 trading days and divide it by 180. This calculation is then repeated for each subsequent trading day, resulting in a series of average values that can be plotted on a chart to show the long-term trend of the security.\n",
    "\n",
    "The 180-day moving average is commonly used to smooth out short-term fluctuations in price and to identify long-term trends in the market. Traders and investors may use the 180-day moving average to determine when to buy or sell a security based on whether its price is above or below the moving average.\n",
    "\n",
    "It's worth noting that the length of the moving average can be adjusted to fit different trading styles and timeframes. For example, a shorter moving average like the 50-day moving average may be used for short-term trading, while a longer moving average like the 200-day moving average may be used for long-term investing."
   ]
  },
  {
   "cell_type": "markdown",
   "id": "fb2e9f27",
   "metadata": {},
   "source": [
    "Q7. Did the chapter's final example use \"indirect\" importing? If so, how exactly do you do it?"
   ]
  },
  {
   "cell_type": "markdown",
   "id": "329335d0",
   "metadata": {},
   "source": [
    "\n",
    "\n",
    "```python\n",
    "from pandas_datareader import data as pdr\n",
    "```\n",
    "\n",
    "Indirect importing allows us to import a function or module under a different name or alias, making it easier to reference later in the code. In this case, the `DataReader` function from `pandas_datareader` is imported as `pdr`.\n",
    "\n",
    "To use indirect importing, we can simply use the `as` keyword followed by the alias we want to use. For example, if we want to import the `math` module and use it with the alias `m`, we can write:\n",
    "\n",
    "```python\n",
    "import math as m\n",
    "```\n",
    "\n",
    "Then, we can refer to functions in the `math` module using the alias `m`, like this:\n",
    "\n",
    "```python\n",
    "m.sqrt(25)  # returns 5.0\n",
    "```\n",
    "\n",
    "Using an alias can make our code more readable and concise, especially when we need to use the same module or function multiple times. It's a common practice in Python to use `import` statements at the top of the script, so that all the necessary modules are imported before they are used in the code."
   ]
  },
  {
   "cell_type": "code",
   "execution_count": null,
   "id": "d981c6af",
   "metadata": {},
   "outputs": [],
   "source": []
  }
 ],
 "metadata": {
  "kernelspec": {
   "display_name": "Python 3 (ipykernel)",
   "language": "python",
   "name": "python3"
  },
  "language_info": {
   "codemirror_mode": {
    "name": "ipython",
    "version": 3
   },
   "file_extension": ".py",
   "mimetype": "text/x-python",
   "name": "python",
   "nbconvert_exporter": "python",
   "pygments_lexer": "ipython3",
   "version": "3.10.9"
  }
 },
 "nbformat": 4,
 "nbformat_minor": 5
}
