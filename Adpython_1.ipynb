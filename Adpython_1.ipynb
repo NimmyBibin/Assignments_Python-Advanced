{
 "cells": [
  {
   "cell_type": "markdown",
   "id": "4191b7dc",
   "metadata": {},
   "source": [
    "Q1. What is the purpose of Python's OOP?"
   ]
  },
  {
   "cell_type": "markdown",
   "id": "cfeb1a3a",
   "metadata": {},
   "source": [
    "The purpose of Python's Object-Oriented Programming (OOP) is to provide a way to organize and structure code so that it is modular, reusable, and easier to maintain. \n",
    "\n",
    "OOP allows you to define custom types, called classes, that can have attributes and methods. Classes serve as blueprints for creating objects, which are instances of the class. By encapsulating data and behavior within a class, you can create more intuitive and self-contained code that is easier to reason about.\n",
    "\n",
    "Using OOP in Python can also lead to code that is more flexible and extensible. By defining abstract classes or interfaces, you can create a common interface for multiple related classes. This allows you to write code that can work with any object that implements that interface, rather than having to write separate code for each class.\n",
    "\n",
    "Overall, OOP in Python is a powerful tool for creating well-structured, maintainable, and reusable code."
   ]
  },
  {
   "cell_type": "markdown",
   "id": "67d4ec6b",
   "metadata": {},
   "source": [
    "\n",
    "Q2. Where does an inheritance search look for an attribute?\n"
   ]
  },
  {
   "cell_type": "markdown",
   "id": "bd976b45",
   "metadata": {},
   "source": [
    "When you access an attribute on an instance of a class in Python, the interpreter will first look for the attribute within the instance itself. If it is not found, it will then look for the attribute in the class that the instance was created from. \n",
    "\n",
    "If the attribute is still not found, then the inheritance search will continue up the class hierarchy, looking for the attribute in each superclass in turn, until it reaches the top of the hierarchy (i.e., the object class). If the attribute is not found anywhere in the hierarchy, then a `AttributeError` will be raised.\n",
    "\n",
    "This process is known as the Method Resolution Order (MRO), which is determined by the C3 linearization algorithm used by Python. The MRO defines the order in which the interpreter searches for attributes in the class hierarchy, and ensures that each attribute is only searched for once, and in the correct order. \n"
   ]
  },
  {
   "cell_type": "markdown",
   "id": "4fe35b7f",
   "metadata": {},
   "source": [
    "\n",
    "Q3. How do you distinguish between a class object and an instance object?\n"
   ]
  },
  {
   "cell_type": "markdown",
   "id": "232783a2",
   "metadata": {},
   "source": [
    "In Python, a class is a blueprint for creating objects, while an instance is an individual object created from a class.\n",
    "\n",
    "To distinguish between a class object and an instance object, you can look at the type of the object. The type of a class object is type, while the type of an instance object is the class itself."
   ]
  },
  {
   "cell_type": "markdown",
   "id": "a875d720",
   "metadata": {},
   "source": [
    "Q4. What makes the first argument in a class’s method function special?"
   ]
  },
  {
   "cell_type": "markdown",
   "id": "3aa3a554",
   "metadata": {},
   "source": [
    "\n",
    "In Python, the first argument in a class's method function is conventionally named self, and it refers to the instance of the class that the method is being called on. This argument is not special in terms of Python syntax or behavior, but it is a widely followed convention in the Python community to use this name for the first argument.\n",
    "\n",
    "When a method is called on an instance of a class, the instance is automatically passed as the first argument to the method. This allows the method to access and manipulate the instance's attributes and other methods."
   ]
  },
  {
   "cell_type": "markdown",
   "id": "3522b708",
   "metadata": {},
   "source": [
    "Q5. What is the purpose of the __init__ method?"
   ]
  },
  {
   "cell_type": "markdown",
   "id": "f6b3b9e6",
   "metadata": {},
   "source": [
    "\n",
    "The __init__ method is a special method in Python classes that is called when an instance of the class is created. The purpose of the __init__ method is to initialize the attributes of the instance to their default values, or to any values specified when the instance is created.\n",
    "\n",
    "When you create a new instance of a class, Python automatically calls the __init__ method of that class, passing in the instance object as the first argument (which is typically named self by convention), followed by any additional arguments that were passed to the class constructor."
   ]
  },
  {
   "cell_type": "markdown",
   "id": "ab46f5f9",
   "metadata": {},
   "source": [
    "Q6. What is the process for creating a class instance?"
   ]
  },
  {
   "cell_type": "markdown",
   "id": "61aef639",
   "metadata": {},
   "source": [
    "1. Define the class: First, you need to define the class using the class keyword, and include any attributes and methods that the class should have.\n",
    "\n",
    "2. Create an instance: To create an instance of the class, you need to call the class constructor, which is typically the name of the class followed by parentheses. You can optionally pass in arguments to the constructor if the class has an __init__ method that takes arguments.\n",
    "\n",
    "to create an instance of a class in Python, you need to define the class and then call the class constructor, passing in any arguments that are required by the __init__ method. Once you have created an instance, you can access its attributes and methods using dot notation."
   ]
  },
  {
   "cell_type": "markdown",
   "id": "f80c53d7",
   "metadata": {},
   "source": [
    "\n",
    "Q7. What is the process for creating a class?\n",
    "\n"
   ]
  },
  {
   "cell_type": "markdown",
   "id": "8d09e6df",
   "metadata": {},
   "source": [
    "\n",
    "To create a class in Python, you need to follow these steps:\n",
    "\n",
    "Use the class keyword: To define a new class, you need to use the class keyword, followed by the name of the class. The name of the class should be in CamelCase format, with the first letter of each word capitalized.\n",
    "\n",
    "Define the class attributes: Inside the class definition, you can define class attributes, which are shared by all instances of the class. To define a class attribute, you can simply create a variable and assign a value to it inside the class definition.\n",
    "\n",
    "Define the class methods: Inside the class definition, you can also define class methods, which are functions that are associated with the class. Class methods can access and modify class attributes, and can also create and manipulate instance objects."
   ]
  },
  {
   "cell_type": "markdown",
   "id": "95b1aae3",
   "metadata": {},
   "source": [
    "\n",
    "Q8. How would you define the superclasses of a class?\n"
   ]
  },
  {
   "cell_type": "markdown",
   "id": "5300a227",
   "metadata": {},
   "source": [
    "The superclasses of a class are the classes from which the current class inherits attributes and methods. In Python, you can define the superclasses of a class by specifying them in parentheses after the class name in the class definition.\n",
    "\n",
    "A class that is derived from another class is called a subclass (also a derived class, extended class, or child class). The class from which the subclass is derived is called a superclass (also a base class or a parent class)."
   ]
  },
  {
   "cell_type": "code",
   "execution_count": null,
   "id": "d789943d",
   "metadata": {},
   "outputs": [],
   "source": []
  }
 ],
 "metadata": {
  "kernelspec": {
   "display_name": "Python 3 (ipykernel)",
   "language": "python",
   "name": "python3"
  },
  "language_info": {
   "codemirror_mode": {
    "name": "ipython",
    "version": 3
   },
   "file_extension": ".py",
   "mimetype": "text/x-python",
   "name": "python",
   "nbconvert_exporter": "python",
   "pygments_lexer": "ipython3",
   "version": "3.10.9"
  }
 },
 "nbformat": 4,
 "nbformat_minor": 5
}
