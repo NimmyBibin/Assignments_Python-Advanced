{
 "cells": [
  {
   "cell_type": "markdown",
   "id": "40a0575d",
   "metadata": {},
   "source": [
    "1.\tWhat are the new features added in Python 3.8 version?"
   ]
  },
  {
   "cell_type": "markdown",
   "id": "29428c34",
   "metadata": {},
   "source": [
    "Python 3.8 was released in October 2019 and introduced several new features and improvements. Here are some of the notable new features:\n",
    "\n",
    "1. Walrus operator (:=): This operator allows you to assign a value to a variable as part of an expression, making it easier to write concise and readable code.\n",
    "\n",
    "2. f-strings with =: You can now use the = character within f-strings to add leading and trailing whitespace to the expression being formatted.\n",
    "\n",
    "3. Positional-only parameters: This feature allows you to define function parameters that can only be passed by position and not by keyword, which can help make the function interface clearer and more intuitive.\n",
    "\n",
    "4. Improved typing support: Python 3.8 includes improvements to the typing module, making it easier to write type hints and use them to catch errors.\n",
    "\n",
    "5. Pickle protocol 5: This new version of the pickle protocol introduces support for out-of-band data and improves serialization performance.\n",
    "\n",
    "6. Vectorcall: This new calling protocol allows for more efficient calling of functions, especially those that take a variable number of arguments.\n",
    "\n",
    "7. New modules and functions: Python 3.8 includes several new modules and functions, including the zoneinfo module for working with time zones, the math.isqrt function for computing integer square roots, and the statistics.multimode function for finding the most common values in a dataset."
   ]
  },
  {
   "cell_type": "markdown",
   "id": "26f62adc",
   "metadata": {},
   "source": [
    "2.\tWhat is monkey patching in Python?"
   ]
  },
  {
   "cell_type": "markdown",
   "id": "cb5842b5",
   "metadata": {},
   "source": [
    "Monkey patching in Python is the process of dynamically modifying a class or module at runtime, without changing its source code. It allows adding, removing, or replacing attributes or methods of an existing class or module. This technique is often used for debugging, testing, or extending the behavior of third-party libraries or frameworks without having to modify their original source code. However, monkey patching can be dangerous and can lead to unexpected behavior or bugs if not used carefully. Therefore, it should be used with caution and only when necessary."
   ]
  },
  {
   "cell_type": "markdown",
   "id": "fb83a92e",
   "metadata": {},
   "source": [
    "3.\tWhat is the difference between a shallow copy and deep copy?"
   ]
  },
  {
   "cell_type": "markdown",
   "id": "b2173e06",
   "metadata": {},
   "source": [
    "\n",
    "In Python, a shallow copy and a deep copy refer to the copying of objects.\n",
    "\n",
    "A shallow copy creates a new object but with the same references as the original object. It means that the copied object shares the same memory space as the original object, so any changes made to the copied object will be reflected in the original object as well. In Python, a shallow copy can be created using the copy() method or the slicing operation.\n",
    "\n",
    "Here's an example of shallow copying a list in Python:\n",
    "\n",
    "original_list = [1, 2, [3, 4], 5]\n",
    "new_list = original_list.copy()\n",
    "\n",
    "new_list[0] = 100\n",
    "new_list[2][0] = 300\n",
    "\n",
    "print(original_list)  # Output: [1, 2, [300, 4], 5]\n",
    "print(new_list)  # Output: [100, 2, [300, 4], 5]\n",
    "As you can see, changing the nested list element in the copied list also affected the original list.\n",
    "\n",
    "On the other hand, a deep copy creates a new object with completely new memory space. It means that any changes made to the copied object will not be reflected in the original object. In Python, a deep copy can be created using the deepcopy() method from the copy module."
   ]
  },
  {
   "cell_type": "markdown",
   "id": "047b3024",
   "metadata": {},
   "source": [
    "4.\tWhat is the maximum possible length of an identifier?"
   ]
  },
  {
   "cell_type": "markdown",
   "id": "2e9891dc",
   "metadata": {},
   "source": [
    "In Python, the maximum length of an identifier is not explicitly defined. However, it is recommended to keep the length of identifiers reasonable and readable for better code maintenance and understanding. In general, Python's style guide (PEP 8) suggests keeping the length of identifiers to a maximum of 79 characters."
   ]
  },
  {
   "cell_type": "markdown",
   "id": "94f4ff6c",
   "metadata": {},
   "source": [
    "5.\tWhat is generator comprehension?"
   ]
  },
  {
   "cell_type": "markdown",
   "id": "f0adbd05",
   "metadata": {},
   "source": [
    "Generator comprehension, also known as generator expression, is a concise and memory-efficient way to create a generator object in Python. It has a similar syntax to list comprehension but with parentheses instead of square brackets.\n",
    "\n",
    "Here is an example of generator comprehension:\n",
    "\n",
    "```\n",
    "gen = (x**2 for x in range(10))\n",
    "```\n",
    "\n",
    "This creates a generator object that produces the squares of the numbers from 0 to 9. Unlike a list comprehension, which creates a list in memory, the generator comprehension produces the values lazily, one at a time, only when they are requested.\n",
    "\n",
    "This makes generator comprehension a useful tool for working with large datasets or when memory is limited, as it allows you to iterate over the elements of a sequence without storing them all in memory at once."
   ]
  },
  {
   "cell_type": "code",
   "execution_count": null,
   "id": "22085bf4",
   "metadata": {},
   "outputs": [],
   "source": []
  }
 ],
 "metadata": {
  "kernelspec": {
   "display_name": "Python 3 (ipykernel)",
   "language": "python",
   "name": "python3"
  },
  "language_info": {
   "codemirror_mode": {
    "name": "ipython",
    "version": 3
   },
   "file_extension": ".py",
   "mimetype": "text/x-python",
   "name": "python",
   "nbconvert_exporter": "python",
   "pygments_lexer": "ipython3",
   "version": "3.10.9"
  }
 },
 "nbformat": 4,
 "nbformat_minor": 5
}
