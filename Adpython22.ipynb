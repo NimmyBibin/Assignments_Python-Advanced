{
 "cells": [
  {
   "cell_type": "markdown",
   "id": "99236cf5",
   "metadata": {},
   "source": [
    "Q1. What are the benefits of the built-in array package, if any?"
   ]
  },
  {
   "cell_type": "markdown",
   "id": "daacafbd",
   "metadata": {},
   "source": [
    "Python's built-in `array` package provides an efficient way to store and manipulate homogeneous collections of data. Some benefits of using the `array` package include:\n",
    "\n",
    "1. Efficient memory usage: The `array` package stores data in a contiguous block of memory, making it more efficient in terms of memory usage than lists, which are implemented as dynamic arrays. This can be especially important when working with large datasets or on memory-constrained systems.\n",
    "\n",
    "2. Fast access and manipulation of data: Since the `array` package stores data in a fixed-size and contiguous block of memory, accessing and manipulating the data is faster than with lists, which have to dynamically allocate and resize memory as needed.\n",
    "\n",
    "3. Typed data: The `array` package requires the data to be of a single data type, such as integers or floats. This can help prevent programming errors that can occur when using lists or other collections that allow multiple data types.\n",
    "\n",
    "4. Interoperability with C and other languages: The `array` package provides a data type that is similar to C-style arrays, making it easier to interface with C code or other languages that use C-style arrays.\n",
    "\n"
   ]
  },
  {
   "cell_type": "markdown",
   "id": "4ba34d29",
   "metadata": {},
   "source": [
    "\n",
    "Q2. What are some of the array package's limitations?\n"
   ]
  },
  {
   "cell_type": "markdown",
   "id": "6971bfda",
   "metadata": {},
   "source": [
    "While the `array` package has many benefits, it also has some limitations that you should be aware of:\n",
    "\n",
    "1. Fixed size: The size of an array must be specified when it is created and cannot be changed later. This can make it difficult to work with dynamic or variable-sized datasets.\n",
    "\n",
    "2. Limited functionality: The `array` package provides a limited set of functions for manipulating arrays, compared to other Python data structures like lists or NumPy arrays.\n",
    "\n",
    "3. Homogeneous data: The `array` package requires that all elements in the array be of the same data type. This can be limiting when working with datasets that contain multiple data types.\n",
    "\n",
    "4. Lack of advanced features: The `array` package does not provide advanced features like indexing with multiple indices, broadcasting, or universal functions that are available with NumPy arrays.\n",
    "\n",
    "5. No built-in support for multidimensional arrays: The `array` package only supports one-dimensional arrays. While you can use nested arrays to create multidimensional arrays, this can be cumbersome to work with.\n",
    "\n"
   ]
  },
  {
   "cell_type": "markdown",
   "id": "99c4ef4f",
   "metadata": {},
   "source": [
    "Q3. Describe the main differences between the array and numpy packages."
   ]
  },
  {
   "cell_type": "markdown",
   "id": "4270c91e",
   "metadata": {},
   "source": [
    "The `array` and `NumPy` packages are both used for working with arrays in Python, but there are some key differences between the two:\n",
    "\n",
    "1. Functionality: `NumPy` provides a much more extensive set of functions for manipulating arrays than the `array` package. This includes advanced features like indexing with multiple indices, broadcasting, and universal functions.\n",
    "\n",
    "2. Data types: `NumPy` supports a much wider range of data types than the `array` package, including complex numbers and arbitrary precision integers. It also supports larger data types, up to 64 bits, which can be useful when working with very large numbers.\n",
    "\n",
    "3. Multidimensional arrays: While the `array` package only supports one-dimensional arrays, `NumPy` provides support for multidimensional arrays, which can be created using the `ndarray` object.\n",
    "\n",
    "4. Performance: `NumPy` is generally faster than the `array` package, due in part to its ability to perform vectorized operations on arrays. This means that `NumPy` can perform the same operation on multiple elements of an array simultaneously, which can be much faster than performing the same operation on each element individually.\n",
    "\n",
    "5. Compatibility: Many third-party libraries and tools for scientific computing in Python, such as Pandas and Matplotlib, are built on top of `NumPy`. This means that `NumPy` arrays can be used seamlessly with these tools, making it a popular choice for scientific computing.\n",
    "\n"
   ]
  },
  {
   "cell_type": "markdown",
   "id": "d26f02d4",
   "metadata": {},
   "source": [
    "\n",
    "Q4. Explain the distinctions between the empty, ones, and zeros functions.\n"
   ]
  },
  {
   "cell_type": "markdown",
   "id": "d24a4660",
   "metadata": {},
   "source": [
    "In NumPy, the `empty`, `ones`, and `zeros` functions are used to create arrays of a specified shape and data type. Here are the main distinctions between them:\n",
    "\n",
    "1. `numpy.empty(shape, dtype=float, order='C')`: This function creates an uninitialized array of the specified shape and data type. It does not set the values of the array elements, so the values will be whatever happens to be in memory at the time the array is created. This function is useful when you need to create an array quickly and don't care about the initial values.\n",
    "\n",
    "2. `numpy.zeros(shape, dtype=float, order='C')`: This function creates an array of the specified shape and data type, with all elements initialized to 0. This function is useful when you need to create an array with a specific shape and want to set all the values to 0.\n",
    "\n",
    "3. `numpy.ones(shape, dtype=float, order='C')`: This function creates an array of the specified shape and data type, with all elements initialized to 1. This function is useful when you need to create an array with a specific shape and want to set all the values to 1.\n",
    "\n",
    "All three functions take the same arguments:\n",
    "\n",
    "- `shape`: A tuple specifying the shape of the array.\n",
    "- `dtype`: The data type of the array. If not specified, the default data type is `float`.\n",
    "- `order`: Specifies whether the array should be stored in row-major ('C') or column-major ('F') order in memory. The default is row-major ('C').\n",
    "\n"
   ]
  },
  {
   "cell_type": "markdown",
   "id": "1340a7de",
   "metadata": {},
   "source": [
    "Q5. In the fromfunction function, which is used to construct new arrays, what is the role of the callable argument?"
   ]
  },
  {
   "cell_type": "markdown",
   "id": "4733a981",
   "metadata": {},
   "source": [
    "In NumPy's fromfunction function, the callable argument is a function that is used to generate the values of the new array. The function is called once for each element in the new array, and the return value of the function is used as the value of that element.\n",
    "\n",
    "The fromfunction function takes two arguments:\n",
    "\n",
    "function: A callable object that is used to generate the values of the new array. The function should take as many arguments as there are dimensions in the new array, and return a scalar value or an array of the same shape as the input arguments.\n",
    "shape: A tuple specifying the shape of the new array.\n",
    "For example, let's say we want to create a 3x3 array where ea"
   ]
  },
  {
   "cell_type": "markdown",
   "id": "83e4690c",
   "metadata": {},
   "source": [
    "Q6. What happens when a numpy array is combined with a single-value operand (a scalar, such as an int or a floating-point value) through addition, as in the expression A + n?\n",
    "\n"
   ]
  },
  {
   "cell_type": "markdown",
   "id": "dfd041a8",
   "metadata": {},
   "source": [
    "\n",
    "When a NumPy array A is combined with a single-value operand n through addition (i.e., using the + operator), NumPy performs an element-wise addition between A and n. That is, n is added to each element in the array A. The resulting array will have the same shape as A, and each element will be the sum of the corresponding element in A and n."
   ]
  },
  {
   "cell_type": "markdown",
   "id": "dce19f7d",
   "metadata": {},
   "source": [
    "\n",
    "Q7. Can array-to-scalar operations use combined operation-assign operators (such as += or *=)? What is the outcome?\n"
   ]
  },
  {
   "cell_type": "markdown",
   "id": "c01e4852",
   "metadata": {},
   "source": [
    "Array-to-scalar operations do not support combined operation-assign operators like `+=` or `*=`. If you try to use these operators with an array and a scalar, you will get a TypeError.\n",
    "\n",
    "For example:\n",
    "\n",
    "```python\n",
    "import numpy as np\n",
    "\n",
    "A = np.array([1, 2, 3])\n",
    "n = 5\n",
    "\n",
    "# This will raise a TypeError:\n",
    "A += n\n",
    "```\n",
    "\n",
    "Output:\n",
    "```\n",
    "TypeError: Cannot cast ufunc add output from dtype('int64') to dtype('int32') with casting rule 'same_kind'\n",
    "```\n",
    "\n",
    "Instead, you can use the regular arithmetic operators to perform element-wise operations between the array and the scalar. For example:\n",
    "\n",
    "```python\n",
    "import numpy as np\n",
    "\n",
    "A = np.array([1, 2, 3])\n",
    "n = 5\n",
    "\n",
    "# Add n to each element in A and assign the result to a new array B:\n",
    "B = A + n\n",
    "print(B)  # Output: [6, 7, 8]\n",
    "\n",
    "# Multiply each element in A by n and assign the result to a new array C:\n",
    "C = A * n\n",
    "print(C)  # Output: [5, 10, 15]\n",
    "```\n",
    "\n",
    "Here, we use the regular arithmetic operators (`+` and `*`) to perform element-wise operations between the array `A` and the scalar `n`. We then assign the result to a new array `B` or `C`, respectively. This way, we can perform the desired operation without using the combined operation-assign operators."
   ]
  },
  {
   "cell_type": "markdown",
   "id": "4063360d",
   "metadata": {},
   "source": [
    "Q8. Does a numpy array contain fixed-length strings? What happens if you allocate a longer string to one of these arrays?"
   ]
  },
  {
   "cell_type": "markdown",
   "id": "b0cd451e",
   "metadata": {},
   "source": [
    "Yes, a NumPy array can contain fixed-length strings, which are specified using the `dtype` parameter of the array creation function. \n",
    "\n",
    "For example, to create a NumPy array with fixed-length strings of length 5, we can use the following code:\n",
    "\n",
    "```python\n",
    "import numpy as np\n",
    "\n",
    "arr = np.array(['foo', 'bar', 'baz'], dtype='S5')\n",
    "print(arr)\n",
    "```\n",
    "\n",
    "Output:\n",
    "```\n",
    "[b'foo' b'bar' b'baz']\n",
    "```\n",
    "\n",
    "Here, the `dtype` parameter is set to `'S5'`, which indicates that the array should contain fixed-length strings of length 5.\n",
    "\n",
    "If you allocate a longer string to one of these arrays, NumPy will automatically truncate the string to the specified length. For example:\n",
    "\n",
    "```python\n",
    "import numpy as np\n",
    "\n",
    "arr = np.array(['foo', 'bar', 'baz'], dtype='S2')\n",
    "arr[0] = 'hello'\n",
    "print(arr)\n",
    "```\n",
    "\n",
    "Output:\n",
    "```\n",
    "[b'he' b'ba' b'ba']\n",
    "```\n",
    "\n",
    "Here, the array is created with a `dtype` of `'S2'`, which means that it can only contain fixed-length strings of length 2. When we assign the string `'hello'` to the first element of the array, NumPy automatically truncates it to `'he'`, since that is the maximum length allowed by the `dtype`. The resulting array contains the truncated strings."
   ]
  },
  {
   "cell_type": "markdown",
   "id": "2147a358",
   "metadata": {},
   "source": [
    "Q9. What happens when you combine two numpy arrays using an operation like addition (+) or multiplication (*)? What are the conditions for combining two numpy arrays?\n",
    "\n"
   ]
  },
  {
   "cell_type": "markdown",
   "id": "4e3a2ebf",
   "metadata": {},
   "source": [
    "\n",
    "When you combine two NumPy arrays using an operation like addition (+) or multiplication (*), the operation is performed element-wise on the arrays. That is, the corresponding elements of the two arrays are combined using the specified operation to produce a new array with the same shape as the original arrays."
   ]
  },
  {
   "cell_type": "markdown",
   "id": "7fda157f",
   "metadata": {},
   "source": [
    "Q10. What is the best way to use a Boolean array to mask another array?"
   ]
  },
  {
   "cell_type": "markdown",
   "id": "77155ac6",
   "metadata": {},
   "source": [
    "The best way to use a Boolean array to mask another array is to pass the Boolean array as an index to the array that you want to mask. This is called boolean indexing.\n",
    "\n",
    "import numpy as np\n",
    "\n",
    "a = np.array([1, 2, 3, 4, 5])\n",
    "mask = np.array([True, False, True, False, False])\n",
    "\n",
    "b = a[mask]\n",
    "\n",
    "print(b)\n"
   ]
  },
  {
   "cell_type": "markdown",
   "id": "c0036a58",
   "metadata": {},
   "source": [
    "\n",
    "Q11. What are three different ways to get the standard deviation of a wide collection of data using both standard Python and its packages? Sort the three of them by how quickly they execute.\n"
   ]
  },
  {
   "cell_type": "markdown",
   "id": "a667e5db",
   "metadata": {},
   "source": [
    "Here are three different ways to get the standard deviation of a wide collection of data using both standard Python and its packages, sorted by how quickly they execute:\n",
    "\n",
    "1. Numpy package: Numpy is a fast and efficient library for numerical computing in Python, and it provides a function called `numpy.std()` that can be used to calculate the standard deviation of an array.\n",
    "\n",
    "```python\n",
    "import numpy as np\n",
    "\n",
    "data = np.array([1, 2, 3, 4, 5])\n",
    "std_dev = np.std(data)\n",
    "\n",
    "print(std_dev)\n",
    "```\n",
    "\n",
    "Output:\n",
    "```\n",
    "1.4142135623730951\n",
    "```\n",
    "\n",
    "2. Statistics package: The statistics module in Python's standard library provides a function called `statistics.stdev()` that can be used to calculate the standard deviation of a list.\n",
    "\n",
    "```python\n",
    "import statistics\n",
    "\n",
    "data = [1, 2, 3, 4, 5]\n",
    "std_dev = statistics.stdev(data)\n",
    "\n",
    "print(std_dev)\n",
    "```\n",
    "\n",
    "Output:\n",
    "```\n",
    "1.5811388300841898\n",
    "```\n",
    "\n",
    "3. Manual calculation: We can calculate the standard deviation of a collection of data manually using Python. This involves calculating the mean of the data, then finding the difference between each data point and the mean, squaring the differences, summing them up, dividing by the number of data points, and finally taking the square root of the result.\n",
    "\n",
    "```python\n",
    "data = [1, 2, 3, 4, 5]\n",
    "n = len(data)\n",
    "\n",
    "mean = sum(data) / n\n",
    "\n",
    "sum_of_squares = sum((x - mean)**2 for x in data)\n",
    "\n",
    "std_dev = (sum_of_squares / n)**0.5\n",
    "\n",
    "print(std_dev)\n",
    "```\n",
    "\n",
    "Output:\n",
    "```\n",
    "1.5811388300841898\n",
    "```\n",
    "\n",
    "In terms of execution speed, the numpy package method is typically the fastest, followed by the statistics package method, and then the manual calculation method."
   ]
  },
  {
   "cell_type": "markdown",
   "id": "c4b9280f",
   "metadata": {},
   "source": [
    "12. What is the dimensionality of a Boolean mask-generated array?"
   ]
  },
  {
   "cell_type": "markdown",
   "id": "1e7b1bbd",
   "metadata": {},
   "source": [
    "The dimensionality of a Boolean mask-generated array is the same as the original array that was used to create the Boolean mask. In other words, if we have an array arr of shape (n, m) and we create a Boolean mask mask of shape (n, m) using some condition, then applying the mask to the original array using arr[mask] will return a new array of shape (k,) where k is the number of elements in arr that satisfy the condition."
   ]
  }
 ],
 "metadata": {
  "kernelspec": {
   "display_name": "Python 3 (ipykernel)",
   "language": "python",
   "name": "python3"
  },
  "language_info": {
   "codemirror_mode": {
    "name": "ipython",
    "version": 3
   },
   "file_extension": ".py",
   "mimetype": "text/x-python",
   "name": "python",
   "nbconvert_exporter": "python",
   "pygments_lexer": "ipython3",
   "version": "3.10.9"
  }
 },
 "nbformat": 4,
 "nbformat_minor": 5
}
