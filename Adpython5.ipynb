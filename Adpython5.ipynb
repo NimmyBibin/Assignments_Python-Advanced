{
 "cells": [
  {
   "cell_type": "markdown",
   "id": "49691e63",
   "metadata": {},
   "source": [
    "Q1. What is the meaning of multiple inheritance?"
   ]
  },
  {
   "cell_type": "markdown",
   "id": "feeece67",
   "metadata": {},
   "source": [
    "Multiple inheritance is a feature in object-oriented programming languages that allows a class to inherit properties and methods from multiple parent classes. In other words, a subclass can be derived from two or more parent classes, and it will have the properties and methods of all its parent classes."
   ]
  },
  {
   "cell_type": "markdown",
   "id": "239b4ae8",
   "metadata": {},
   "source": [
    "\n",
    "Q2. What is the concept of delegation?\n"
   ]
  },
  {
   "cell_type": "markdown",
   "id": "5e7549d6",
   "metadata": {},
   "source": [
    "responsibilities to another object. In other words, instead of performing a task itself, an object delegates the task to another object to perform on its behalf.\n",
    "\n",
    "Delegation is often used to simplify code by breaking up complex objects into smaller, more manageable components. By delegating certain tasks to other objects, an object can focus on its core responsibilities and avoid becoming too complex and unwieldy.\n",
    "\n",
    "In object-oriented programming, delegation is typically implemented by defining a \"delegate\" object that is responsible for performing a specific task. The delegating object then passes on the task to the delegate object by invoking one of its methods. The delegate object then performs the task and returns the result to the delegating object.\n",
    "\n",
    "Delegation can be used in a variety of contexts, including user interfaces, networking, and event handling. For example, in a user interface, a button may delegate the handling of a click event to another object that knows how to perform the appropriate action."
   ]
  },
  {
   "cell_type": "markdown",
   "id": "629e60d5",
   "metadata": {},
   "source": [
    "\n",
    "Q3. What is the concept of composition?\n"
   ]
  },
  {
   "cell_type": "markdown",
   "id": "80db9157",
   "metadata": {},
   "source": [
    "\n",
    "Composition is a programming concept that allows objects to be constructed from other objects. In other words, an object is composed of one or more other objects, rather than inheriting all of its behavior from a single parent object.\n",
    "\n",
    "Composition is often used as an alternative to inheritance, as it allows for more flexible and modular code. Instead of creating complex hierarchies of classes, where each subclass inherits behavior from its parent class, objects can be composed of smaller, more focused objects that handle specific responsibilities.\n",
    "\n",
    "In composition, an object may have one or more \"component\" objects that it uses to perform specific tasks. For example, a car object may be composed of a steering wheel, an engine, a set of wheels, and other components that work together to create the car's behavior. Each component object may be designed to handle a specific responsibility, such as steering, accelerating, or braking.\n",
    "\n",
    "Composition can also be used to create more complex objects from simpler building blocks. For example, a drawing application may compose complex shapes from basic geometric objects like circles, rectangles, and triangles."
   ]
  },
  {
   "cell_type": "markdown",
   "id": "db5a69e2",
   "metadata": {},
   "source": [
    "Q4. What are bound methods and how do we use them?"
   ]
  },
  {
   "cell_type": "markdown",
   "id": "6be1c851",
   "metadata": {},
   "source": [
    "In Python, a bound method is a method of an object that has been \"bound\" to that object, meaning that the object is passed as the first argument to the method automatically when it is called.\n",
    "\n",
    "To create a bound method in Python, you first need to define a method within a class. When an instance of that class is created, the method is automatically bound to that instance. You can then call the method on the instance, and the instance will be passed as the first argument to the method automatically."
   ]
  },
  {
   "cell_type": "markdown",
   "id": "3a6873dc",
   "metadata": {},
   "source": [
    "\n",
    "\n",
    "Q5. What is the purpose of pseudoprivate attributes?\n"
   ]
  },
  {
   "cell_type": "markdown",
   "id": "9dd76fe7",
   "metadata": {},
   "source": [
    "Pseudoprivate attributes in Python are class attributes that are named with double underscores at the beginning, followed by at most one underscore at the end (e.g. __my_attr_). These attributes are not truly private, since they can still be accessed from outside the class if you know the name of the attribute.\n",
    "\n",
    "However, the purpose of pseudoprivate attributes is to provide a form of name mangling that makes it less likely that other classes will accidentally access or modify the attribute. When a pseudoprivate attribute is defined in a class, its name is \"mangled\" by Python to include the name of the class in the attribute name, as well as an additional underscore. This makes it more difficult for other classes to accidentally access or modify the attribute, since they would need to know the exact name of the mangled attribute."
   ]
  },
  {
   "cell_type": "code",
   "execution_count": null,
   "id": "04526d18",
   "metadata": {},
   "outputs": [],
   "source": []
  }
 ],
 "metadata": {
  "kernelspec": {
   "display_name": "Python 3 (ipykernel)",
   "language": "python",
   "name": "python3"
  },
  "language_info": {
   "codemirror_mode": {
    "name": "ipython",
    "version": 3
   },
   "file_extension": ".py",
   "mimetype": "text/x-python",
   "name": "python",
   "nbconvert_exporter": "python",
   "pygments_lexer": "ipython3",
   "version": "3.10.9"
  }
 },
 "nbformat": 4,
 "nbformat_minor": 5
}
