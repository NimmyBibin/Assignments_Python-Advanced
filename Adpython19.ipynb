{
 "cells": [
  {
   "cell_type": "markdown",
   "id": "c5a0f7fd",
   "metadata": {},
   "source": [
    "Q1. Define the relationship between a class and its instances. Is it a one-to-one or a one-to-many partnership, for example?"
   ]
  },
  {
   "cell_type": "markdown",
   "id": "9967f93b",
   "metadata": {},
   "source": [
    "In object-oriented programming, a class is a blueprint or template that defines the attributes and behaviors of objects. An instance, on the other hand, is a specific object created from that blueprint or template. The relationship between a class and its instances is one-to-many, meaning that a single class can have many instances. Each instance of a class has its own set of attribute values, but shares the same methods and behavior defined by the class."
   ]
  },
  {
   "cell_type": "markdown",
   "id": "b77c8351",
   "metadata": {},
   "source": [
    "\n",
    "Q2. What kind of data is held only in an instance?\n"
   ]
  },
  {
   "cell_type": "markdown",
   "id": "dc56f49c",
   "metadata": {},
   "source": [
    "In object-oriented programming, instance data refers to the data that is unique to each instance of a class. This data is held in instance variables, which are defined within the class and assigned values when an instance of the class is created. The instance data can vary from one instance to another, which is what makes each instance unique. Instance data includes information specific to the state of the object, such as its properties and values, as well as any methods or functions that operate on that data."
   ]
  },
  {
   "cell_type": "markdown",
   "id": "71d72876",
   "metadata": {},
   "source": [
    "\n",
    "Q3. What kind of knowledge is stored in a class?\n"
   ]
  },
  {
   "cell_type": "markdown",
   "id": "924e0808",
   "metadata": {},
   "source": [
    "In object-oriented programming, a class is a blueprint for creating objects that have specific methods and properties. Classes define the behavior of objects and store the knowledge of how objects should behave. They contain attributes (data) and methods (functions) that describe the behavior of objects created from that class. Therefore, the knowledge stored in a class includes the methods and attributes that define the behavior and characteristics of the objects created from that class."
   ]
  },
  {
   "cell_type": "markdown",
   "id": "17ab3b3f",
   "metadata": {},
   "source": [
    "\n",
    "Q4. What exactly is a method, and how is it different from a regular function?\n"
   ]
  },
  {
   "cell_type": "markdown",
   "id": "2355ec25",
   "metadata": {},
   "source": [
    "In Python, a method is a function that belongs to an object of a class. It is similar to a regular function, but it is defined inside a class and can only be called on an instance of that class. A method can access and modify data that is contained within an instance of the class. The main difference between a method and a regular function is that a method is associated with a class and its objects, while a regular function is not. Additionally, a method takes an implicit first parameter (usually called `self`) that refers to the instance of the class on which the method is called."
   ]
  },
  {
   "cell_type": "markdown",
   "id": "7831be9a",
   "metadata": {},
   "source": [
    "\n",
    "Q5. Is inheritance supported in Python, and if so, what is the syntax?\n"
   ]
  },
  {
   "cell_type": "markdown",
   "id": "dee8285d",
   "metadata": {},
   "source": [
    "\n",
    "Yes, inheritance is supported in Python. Inheritance is a mechanism in which a new class can be derived from an existing class. The new class, known as the derived or child class, inherits the properties and behaviors of the existing class, known as the base or parent class."
   ]
  },
  {
   "cell_type": "markdown",
   "id": "0683fe17",
   "metadata": {},
   "source": [
    "Q6. How much encapsulation (making instance or class variables private) does Python support?"
   ]
  },
  {
   "cell_type": "markdown",
   "id": "1a657381",
   "metadata": {},
   "source": [
    "Python provides a limited level of encapsulation, by using the convention of prefixing an attribute with a double underscore (e.g. `__attribute`). This makes the attribute name \"mangled\" and harder to access from outside the class, but it's not truly private as it can still be accessed with some effort. However, Python encourages the use of getter and setter methods to access instance variables instead of directly accessing them. This provides a layer of abstraction and flexibility, allowing for validation or additional logic to be added when getting or setting values."
   ]
  },
  {
   "cell_type": "markdown",
   "id": "bcb0aee6",
   "metadata": {},
   "source": [
    "Q7. How do you distinguish between a class variable and an instance variable?"
   ]
  },
  {
   "cell_type": "markdown",
   "id": "a62b2b9a",
   "metadata": {},
   "source": [
    "\n",
    "In Python, a class variable is a variable that is shared across all instances of a class. It is defined within the class, but outside of any methods, and is accessed using the class name rather than the instance name. An instance variable, on the other hand, is a variable that is unique to each instance of a class. It is defined within the class's methods, and is accessed using the instance name."
   ]
  },
  {
   "cell_type": "markdown",
   "id": "75adda5f",
   "metadata": {},
   "source": [
    "\n",
    "Q8. When, if ever, can self be included in a class's method definitions?\n"
   ]
  },
  {
   "cell_type": "markdown",
   "id": "fdcaaa9b",
   "metadata": {},
   "source": [
    "The `self` parameter is always included as the first parameter in a Python class's method definitions. `self` refers to the instance of the class that the method is being called on, and it allows the method to access and manipulate the instance's attributes. Without `self`, the method would not know which instance to operate on. So, to define any method in a class, you must include `self` as the first parameter in the method definition."
   ]
  },
  {
   "cell_type": "markdown",
   "id": "aa3d077d",
   "metadata": {},
   "source": [
    "\n",
    "Q9. What is the difference between the _ _add_ _ and the _ _radd_ _ methods?\n"
   ]
  },
  {
   "cell_type": "markdown",
   "id": "7dabe121",
   "metadata": {},
   "source": [
    "The `__add__` and `__radd__` methods are used for addition in Python, but they differ in their implementation for certain data types. The `__add__` method is called when the \"+\" operator is used to add an instance of a class with another object. On the other hand, the `__radd__` method is called when the \"+\" operator is used to add an object to an instance of a class, and the object's type does not support the `__add__` method. In this case, Python attempts to call the `__radd__` method of the object instead. The `__radd__` method is also known as the right-side add method."
   ]
  },
  {
   "cell_type": "markdown",
   "id": "de765fd4",
   "metadata": {},
   "source": [
    "\n",
    "Q10. When is it necessary to use a reflection method? When do you not need it, even though you support the operation in question?\n"
   ]
  },
  {
   "cell_type": "markdown",
   "id": "bdaad06b",
   "metadata": {},
   "source": [
    "In Python, reflection is the ability of an object to inspect its own properties and methods at runtime. A reflection method is a built-in method that allows us to implement reflection in our code. We use reflection when we want to examine or modify the behavior of an object at runtime. For example, we can use the `getattr` method to retrieve the value of an attribute or the `setattr` method to set the value of an attribute dynamically.\n",
    "\n",
    "We do not need to use reflection when we know the exact properties and methods of an object at the time of coding. In such cases, we can directly call the desired method or access the property using the dot notation. However, reflection becomes necessary when we are dealing with dynamic objects whose properties and methods are not known until runtime."
   ]
  },
  {
   "cell_type": "markdown",
   "id": "d438c560",
   "metadata": {},
   "source": [
    "Q11. What is the _ _iadd_ _ method called?"
   ]
  },
  {
   "cell_type": "markdown",
   "id": "727660a2",
   "metadata": {},
   "source": [
    "The `_ _iadd_ _` method is called the \"in-place addition\" method or \"augmented assignment\" method. It is used when the \"+=\" operator is used with an object of a class. The `_ _iadd_ _` method updates the object's value in place rather than creating a new object, which can be more efficient in some cases."
   ]
  },
  {
   "cell_type": "markdown",
   "id": "b24d0c23",
   "metadata": {},
   "source": [
    "\n",
    "Q12. Is the _ _init_ _ method inherited by subclasses? What do you do if you need to customize its behavior within a subclass?\n"
   ]
  },
  {
   "cell_type": "markdown",
   "id": "27d92481",
   "metadata": {},
   "source": [
    "Yes, the _ _init_ _ method is inherited by subclasses. If you need to customize its behavior within a subclass, you can override the method in the subclass and provide your own implementation of the initialization logic. You can then call the parent class's _ _init_ _ method if needed, using the super() function. This allows you to selectively modify or add to the initialization behavior of the parent class in the context of the subclass."
   ]
  },
  {
   "cell_type": "code",
   "execution_count": null,
   "id": "14f2854e",
   "metadata": {},
   "outputs": [],
   "source": []
  }
 ],
 "metadata": {
  "kernelspec": {
   "display_name": "Python 3 (ipykernel)",
   "language": "python",
   "name": "python3"
  },
  "language_info": {
   "codemirror_mode": {
    "name": "ipython",
    "version": 3
   },
   "file_extension": ".py",
   "mimetype": "text/x-python",
   "name": "python",
   "nbconvert_exporter": "python",
   "pygments_lexer": "ipython3",
   "version": "3.10.9"
  }
 },
 "nbformat": 4,
 "nbformat_minor": 5
}
