{
 "cells": [
  {
   "cell_type": "markdown",
   "id": "6fa4bdc6",
   "metadata": {},
   "source": [
    "Q1. What is the purpose of the try statement?"
   ]
  },
  {
   "cell_type": "markdown",
   "id": "ee2b0e59",
   "metadata": {},
   "source": [
    "The try statement in Python is used for exception handling. It is used to define a block of code that may raise an exception, and to specify how the program should respond if such an exception occurs."
   ]
  },
  {
   "cell_type": "markdown",
   "id": "dbf4e7bc",
   "metadata": {},
   "source": [
    "Q2. What are the two most popular try statement variations?"
   ]
  },
  {
   "cell_type": "markdown",
   "id": "0c2d04ef",
   "metadata": {},
   "source": [
    "The two most popular variations of the `try` statement are:\n",
    "\n",
    "1. `try-except`: This variation of the `try` statement is used to catch and handle specific exceptions that might occur in the `try` block. The `except` block follows the `try` block, and contains code that is executed if the specified exception is raised. Multiple `except` blocks can be used to handle different types of exceptions.\n",
    "\n",
    "2. `try-finally`: This variation of the `try` statement is used to ensure that a block of code is executed regardless of whether or not an exception is raised. The `finally` block follows the `try` block, and contains code that is executed no matter what happens in the `try` block, even if an exception is raised. This can be useful for performing cleanup tasks, such as closing files or releasing resources."
   ]
  },
  {
   "cell_type": "markdown",
   "id": "3cf1d9e2",
   "metadata": {},
   "source": [
    "\n",
    "\n",
    "\n",
    "Q3. What is the purpose of the raise statement?\n"
   ]
  },
  {
   "cell_type": "markdown",
   "id": "2e1b4d6d",
   "metadata": {},
   "source": [
    "The raise statement in Python is used to raise an exception explicitly. When executed, the raise statement causes an exception to be raised with the specified exception type, value, and traceback."
   ]
  },
  {
   "cell_type": "markdown",
   "id": "f235d0b4",
   "metadata": {},
   "source": [
    "Q4. What does the assert statement do, and what other statement is it like?"
   ]
  },
  {
   "cell_type": "markdown",
   "id": "80ce5561",
   "metadata": {},
   "source": [
    "\n",
    "The assert statement in Python is used to check if a condition is true, and raise an exception if it is not. If the condition is true, then the assert statement does nothing and the program continues to execute normally. However, if the condition is false, then the assert statement raises an AssertionError exception with an optional error message."
   ]
  },
  {
   "cell_type": "markdown",
   "id": "44469b7f",
   "metadata": {},
   "source": [
    "Q5. What is the purpose of the with/as argument, and what other statement is it like?"
   ]
  },
  {
   "cell_type": "markdown",
   "id": "0a012a8d",
   "metadata": {},
   "source": [
    "\n",
    "The with/as statement in Python is used to manage resources, such as files or network connections, in a way that ensures they are properly cleaned up or released when they are no longer needed."
   ]
  },
  {
   "cell_type": "code",
   "execution_count": null,
   "id": "ebfa3ac3",
   "metadata": {},
   "outputs": [],
   "source": []
  }
 ],
 "metadata": {
  "kernelspec": {
   "display_name": "Python 3 (ipykernel)",
   "language": "python",
   "name": "python3"
  },
  "language_info": {
   "codemirror_mode": {
    "name": "ipython",
    "version": 3
   },
   "file_extension": ".py",
   "mimetype": "text/x-python",
   "name": "python",
   "nbconvert_exporter": "python",
   "pygments_lexer": "ipython3",
   "version": "3.10.9"
  }
 },
 "nbformat": 4,
 "nbformat_minor": 5
}
