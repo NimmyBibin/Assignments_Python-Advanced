{
 "cells": [
  {
   "cell_type": "markdown",
   "id": "2d546652",
   "metadata": {},
   "source": [
    "Q1. Explain the difference between greedy and non-greedy syntax with visual terms in as few words as possible. What is the bare minimum effort required to transform a greedy pattern into a non-greedy one? What characters or characters can you introduce or change?"
   ]
  },
  {
   "cell_type": "markdown",
   "id": "2a4f71ee",
   "metadata": {},
   "source": [
    "In regular expressions, greedy syntax matches the longest possible string that satisfies the pattern, while non-greedy (also called lazy) syntax matches the shortest possible string. \n",
    "\n",
    "To transform a greedy pattern into a non-greedy one, you can add a question mark after the quantifier. For example, changing `.*` to `.*?` makes it non-greedy. The question mark can also be added to other quantifiers like `+`, `?`, `{m,n}` to make them non-greedy.\n",
    "\n",
    "The bare minimum effort required to transform a greedy pattern into a non-greedy one is to add a question mark after the quantifier. For example, changing `.*` to `.*?` makes it non-greedy. The question mark can also be added to other quantifiers like `+`, `?`, `{m,n}` to make them non-greedy."
   ]
  },
  {
   "cell_type": "markdown",
   "id": "7d01f78e",
   "metadata": {},
   "source": [
    "Q2. When exactly does greedy versus non-greedy make a difference?  What if you're looking for a non-greedy match but the only one available is greedy?"
   ]
  },
  {
   "cell_type": "markdown",
   "id": "b083fea7",
   "metadata": {},
   "source": [
    "Greedy versus non-greedy matching makes a difference when the search pattern includes a quantifier that can match more than one character, such as the asterisk (*) or plus sign (+). In a greedy match, the pattern matches as much of the input as possible while still allowing the overall match to succeed, whereas in a non-greedy match, the pattern matches as little as possible while still allowing the overall match to succeed.\n",
    "\n",
    "For example, consider the input string \"abcbab\" and the pattern \"a.*b\". In a greedy match, the pattern matches the entire string \"abcbab\", while in a non-greedy match, the pattern matches only \"ab\" because it matches as little as possible between the \"a\" and the \"b\".\n",
    "\n",
    "If a non-greedy match is desired but only a greedy match is available, you can transform the pattern into a non-greedy one by adding a question mark (?) after the quantifier. For example, \"a.*?b\" would match \"ab\" in the above example."
   ]
  },
  {
   "cell_type": "markdown",
   "id": "5e60c928",
   "metadata": {},
   "source": [
    "\n",
    "Q3. In a simple match of a string, which looks only for one match and does not do any replacement, is the use of a nontagged group likely to make any practical difference?\n"
   ]
  },
  {
   "cell_type": "markdown",
   "id": "b70522f6",
   "metadata": {},
   "source": [
    "In a simple match of a string that only looks for one match and does not do any replacement, the use of a nontagged group is not likely to make any practical difference. Nontagged groups are mainly used for capturing and grouping parts of the pattern to be used in replacements or to extract information from the matched string. They do not affect the overall matching behavior of the pattern. However, tagged groups can be used to capture and extract specific parts of the matched string for further processing."
   ]
  },
  {
   "cell_type": "markdown",
   "id": "3c8e9e25",
   "metadata": {},
   "source": [
    "\n",
    "Q4. Describe a scenario in which using a nontagged category would have a significant impact on the program's outcomes.\n"
   ]
  },
  {
   "cell_type": "markdown",
   "id": "2a8fd27a",
   "metadata": {},
   "source": [
    "A nontagged category in regular expressions is used to create a group of patterns without creating a capturing group. The use of a nontagged category can have a significant impact on the program's outcomes when the user wants to apply a regular expression pattern to a string, but doesn't want the specific substring matched by the pattern to be captured and extracted for further use. \n",
    "\n",
    "For example, suppose we have a large dataset containing email addresses. We want to filter out any email address that contains the word \"spam\". We can use the nontagged category to search for \"spam\" in the email address pattern without actually capturing it. This way, we can filter out the email addresses that contain the word \"spam\" without having to extract and process the specific substring that matched the pattern. This can save time and processing resources when dealing with large datasets."
   ]
  },
  {
   "cell_type": "markdown",
   "id": "04bbcf3d",
   "metadata": {},
   "source": [
    "\n",
    "Q5. Unlike a normal regex pattern, a look-ahead condition does not consume the characters it examines. Describe a situation in which this could make a difference in the results of your programme.\n"
   ]
  },
  {
   "cell_type": "markdown",
   "id": "8bb56921",
   "metadata": {},
   "source": [
    "Consider a scenario where we have a string containing a list of email addresses, and we want to extract only those email addresses that are followed by the word \"gmail.com\". In this case, we can use a look-ahead assertion to check if the email address is followed by \"gmail.com\" without consuming those characters. \n",
    "\n",
    "For example, if we have the string \"john@gmail.com, jake@yahoo.com, jane@gmail.com\", we can use the regex pattern r\"\\w+@\\w+\\.com(?=.*gmail\\.com)\" to match only \"john@gmail.com\" and \"jane@gmail.com\", while excluding \"jake@yahoo.com\". The look-ahead assertion (?=.*gmail\\.com) checks if the string \"gmail.com\" appears anywhere after the email address without consuming any characters. If we did not use a look-ahead assertion, we would need to consume the characters between the email address and \"gmail.com\", which could potentially match unwanted text and give incorrect results."
   ]
  },
  {
   "cell_type": "markdown",
   "id": "3b35bce0",
   "metadata": {},
   "source": [
    "\n",
    "Q6. In standard expressions, what is the difference between positive look-ahead and negative look-ahead?\n"
   ]
  },
  {
   "cell_type": "markdown",
   "id": "97a460d7",
   "metadata": {},
   "source": [
    "In regular expressions, both positive and negative look-ahead are types of non-capturing group that match a pattern only if it is followed by another pattern. However, they differ in their logic:\n",
    "\n",
    "Positive look-ahead: This looks for a pattern that must follow the current pattern, but it doesn't include the matched pattern in the final output. The syntax for positive look-ahead is (?=pattern).\n",
    "\n",
    "Negative look-ahead: This looks for a pattern that must not follow the current pattern. If the pattern is found, the match fails. The syntax for negative look-ahead is (?!pattern)."
   ]
  },
  {
   "cell_type": "markdown",
   "id": "a6ac127a",
   "metadata": {},
   "source": [
    "Q7. What is the benefit of referring to groups by name rather than by number in a standard expression?"
   ]
  },
  {
   "cell_type": "markdown",
   "id": "d6d1acb4",
   "metadata": {},
   "source": [
    "Referring to groups by name rather than by number in a standard expression provides several benefits:\n",
    "\n",
    "1. Improved readability: Group names provide a clear and descriptive name to a particular group, making the regular expression more readable and easier to understand.\n",
    "\n",
    "2. Avoid errors: Using group numbers can be prone to errors when the regular expression is updated, especially if new groups are added or existing groups are rearranged. Using group names helps to avoid such errors as the names remain constant even if the order of groups changes.\n",
    "\n",
    "3. Flexibility: Group names can be used to refer to groups within the same expression or across different expressions, which can be useful when working with complex regular expressions.\n",
    "\n",
    "4. Code maintenance: When regular expressions are used in code, using group names makes it easier to maintain the code by providing descriptive names that can be easily understood and modified if needed."
   ]
  },
  {
   "cell_type": "markdown",
   "id": "e528eac2",
   "metadata": {},
   "source": [
    "\n",
    "\n",
    "\n",
    "Q8. Can you identify repeated items within a target string using named groups, as in \"The cow jumped over the moon\"?\n"
   ]
  },
  {
   "cell_type": "markdown",
   "id": "66095f42",
   "metadata": {},
   "source": [
    "Yes, you can identify repeated items within a target string using named groups in Python regular expressions. Here's an example:\n",
    "\n",
    "```\n",
    "import re\n",
    "\n",
    "# Define the pattern using named groups\n",
    "pattern = r'(?P<word>\\w+) (?P=word)'\n",
    "\n",
    "# Define the input string\n",
    "string = 'The cow jumped over the moon'\n",
    "\n",
    "# Search for the pattern in the string\n",
    "match = re.search(pattern, string)\n",
    "\n",
    "# Print the match\n",
    "if match:\n",
    "    print(match.group())\n",
    "```\n",
    "\n",
    "In this example, the pattern `(?P<word>\\w+) (?P=word)` defines two named groups: `word`, which matches one or more word characters, and a reference to the previous group `(?P=word)` which matches the same text as the first group. The `re.search()` function is used to search for the pattern in the input string. The `match.group()` method is used to print the matched text. The output of this code would be `cow jumped`."
   ]
  },
  {
   "cell_type": "markdown",
   "id": "495e65dc",
   "metadata": {},
   "source": [
    "\n",
    "\n",
    "Q9. When parsing a string, what is at least one thing that the Scanner interface does for you that the re.findall feature does not?\n"
   ]
  },
  {
   "cell_type": "markdown",
   "id": "eb560489",
   "metadata": {},
   "source": [
    "The Scanner interface is not a feature in Python, it is a part of the Java API. In Python, the `re` module provides various regular expression functions, including `re.findall()`, which searches a string for all occurrences of a pattern and returns a list of matching strings. One thing that `Scanner` does in Java that `re.findall()` does not do in Python is allow the user to scan different types of input sources such as files or streams. `re.findall()` is only used for searching and extracting pattern matches from a given string."
   ]
  },
  {
   "cell_type": "markdown",
   "id": "5fa87bd0",
   "metadata": {},
   "source": [
    "Q10. Does a scanner object have to be named scanner?"
   ]
  },
  {
   "cell_type": "markdown",
   "id": "e4a53b46",
   "metadata": {},
   "source": [
    "No, a scanner object does not have to be named \"scanner\". We can name it anything we want, as long as it follows the naming rules for variables in Python."
   ]
  },
  {
   "cell_type": "code",
   "execution_count": null,
   "id": "abc766bc",
   "metadata": {},
   "outputs": [],
   "source": []
  }
 ],
 "metadata": {
  "kernelspec": {
   "display_name": "Python 3 (ipykernel)",
   "language": "python",
   "name": "python3"
  },
  "language_info": {
   "codemirror_mode": {
    "name": "ipython",
    "version": 3
   },
   "file_extension": ".py",
   "mimetype": "text/x-python",
   "name": "python",
   "nbconvert_exporter": "python",
   "pygments_lexer": "ipython3",
   "version": "3.10.9"
  }
 },
 "nbformat": 4,
 "nbformat_minor": 5
}
