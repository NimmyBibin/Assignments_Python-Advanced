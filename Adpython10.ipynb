{
 "cells": [
  {
   "cell_type": "markdown",
   "id": "beaced71",
   "metadata": {},
   "source": [
    "Q1. What is the difference between __getattr__ and __getattribute__?"
   ]
  },
  {
   "cell_type": "markdown",
   "id": "6d14eb43",
   "metadata": {},
   "source": [
    "In Python, both __getattr__ and __getattribute__ are used for attribute access in classes, but they have some differences:\n",
    "\n",
    "__getattr__(self, name) is called only when the attribute being accessed is not found by the usual methods like the instance's dictionary, the class hierarchy, or its properties. It is invoked after the attribute lookup has failed using the usual method. It is intended to provide a fallback for missing attributes.\n",
    "\n",
    "__getattribute__(self, name) is called for every attribute access, whether it exists or not. It is always invoked first, even if the attribute is already present in the instance's dictionary. Therefore, it can potentially hide or override other attributes, and it can be used to customize attribute access at a lower level."
   ]
  },
  {
   "cell_type": "markdown",
   "id": "7d028571",
   "metadata": {},
   "source": [
    "Q2. What is the difference between properties and descriptors?"
   ]
  },
  {
   "cell_type": "markdown",
   "id": "e982b348",
   "metadata": {},
   "source": [
    "Properties and descriptors are both used to manage access to an object's attributes in Python, but they work in slightly different ways:\n",
    "\n",
    "Properties: Properties are a way to define getter, setter, and deleter methods for an attribute in a class. They provide a simple way to control access to attributes without requiring users of the class to change their code. Properties are defined using the @property decorator for the getter method, @<attrname>.setter for the setter method, and @<attrname>.deleter for the deleter method.\n",
    "\n",
    "Descriptors: Descriptors are a more powerful way to define custom access to attributes in a class. They allow you to define the getter, setter, and deleter methods as separate classes that can be shared between different attributes in different classes. Descriptors are defined by implementing one or more of the __get__, __set__, and __delete__ methods in a separate class, which can then be used as a descriptor on an attribute in another class."
   ]
  },
  {
   "cell_type": "markdown",
   "id": "66a4959d",
   "metadata": {},
   "source": [
    "\n",
    "Q3. What are the key differences in functionality between __getattr__ and __getattribute__, as well as properties and descriptors?\n"
   ]
  },
  {
   "cell_type": "markdown",
   "id": "8f4e6f6a",
   "metadata": {},
   "source": [
    "Both `__getattr__` and `__getattribute__` are special methods in Python that are used to intercept attribute access. However, there is an important difference between the two methods.\n",
    "\n",
    "`__getattr__` is only called if the attribute being accessed is not found by the usual lookup process. It takes a single argument, the name of the attribute being accessed, and it must return the value of the attribute or raise an `AttributeError` exception if the attribute does not exist.\n",
    "\n",
    "`__getattribute__`, on the other hand, is called every time an attribute is accessed on the object, whether or not the attribute exists. It takes a single argument, the name of the attribute being accessed, and it must return the value of the attribute or raise an `AttributeError` exception if the attribute does not exist.\n",
    "\n",
    "Properties and descriptors are both mechanisms for controlling attribute access, but they operate at a higher level of abstraction than `__getattr__` and `__getattribute__`.\n",
    "\n",
    "Properties allow you to define methods that are accessed like attributes, but which are actually computed on the fly when accessed. They are defined using the `@property` decorator and can also be used with setter and deleter methods to control attribute assignment and deletion.\n",
    "\n",
    "Descriptors are objects that define the behavior of attribute access for an object. They are defined by defining one or more of the `__get__`, `__set__`, and `__delete__` methods, which are called when the attribute is accessed, assigned to, or deleted. Descriptors are typically used to implement attributes that have complex or non-standard behavior, such as lazy-loading, type conversion, or validation."
   ]
  },
  {
   "cell_type": "code",
   "execution_count": null,
   "id": "47a04dbd",
   "metadata": {},
   "outputs": [],
   "source": []
  }
 ],
 "metadata": {
  "kernelspec": {
   "display_name": "Python 3 (ipykernel)",
   "language": "python",
   "name": "python3"
  },
  "language_info": {
   "codemirror_mode": {
    "name": "ipython",
    "version": 3
   },
   "file_extension": ".py",
   "mimetype": "text/x-python",
   "name": "python",
   "nbconvert_exporter": "python",
   "pygments_lexer": "ipython3",
   "version": "3.10.9"
  }
 },
 "nbformat": 4,
 "nbformat_minor": 5
}
