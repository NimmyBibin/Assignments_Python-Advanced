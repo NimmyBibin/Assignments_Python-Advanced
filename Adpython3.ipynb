{
 "cells": [
  {
   "cell_type": "markdown",
   "id": "81037e1a",
   "metadata": {},
   "source": [
    "1. What is the concept of an abstract superclass?"
   ]
  },
  {
   "cell_type": "markdown",
   "id": "7818dd2e",
   "metadata": {},
   "source": [
    "In object-oriented programming, an abstract superclass is a class that is intended to be subclassed but not instantiated. An abstract superclass defines a common interface or behavior for its subclasses, but does not provide a complete implementation of that behavior.\n",
    "\n",
    "In Python, you can create an abstract superclass by using the abc module to define an abstract base class (ABC). An ABC is a special type of class that cannot be instantiated directly, but is intended to be subclassed. An ABC defines a set of abstract methods, which are methods that are declared but not implemented in the ABC. Each subclass of the ABC is required to implement these abstract methods."
   ]
  },
  {
   "cell_type": "markdown",
   "id": "7adc2742",
   "metadata": {},
   "source": [
    "2. What happens when a class statement's top level contains a basic assignment statement?"
   ]
  },
  {
   "cell_type": "markdown",
   "id": "c7705374",
   "metadata": {},
   "source": [
    "When a class statement's top-level contains a basic assignment statement, the assigned value becomes a class-level variable or a class attribute.\n",
    "\n",
    "A class-level variable or a class attribute is a variable that is defined at the class level, rather than at the instance level. It is shared by all instances of the class and can be accessed using the class name. This means that all instances of the class have access to the same value of the class-level variable."
   ]
  },
  {
   "cell_type": "markdown",
   "id": "6b7254bb",
   "metadata": {},
   "source": [
    "3. Why does a class need to manually call a superclass's __init__ method?"
   ]
  },
  {
   "cell_type": "markdown",
   "id": "07bb24cf",
   "metadata": {},
   "source": [
    "n object-oriented programming, a class can inherit properties and methods from a superclass (also known as a parent class). When a subclass is created, it can have its own unique properties and methods in addition to those inherited from its superclass.\n",
    "\n",
    "In Python, when a subclass is created, it does not automatically call the superclass's __init__ method unless it is explicitly called. The __init__ method is responsible for initializing the object's properties when it is created.\n",
    "\n",
    "Therefore, if a subclass wants to inherit properties from its superclass and also initialize its own properties, it needs to call the __init__ method of its superclass explicitly. This can be done by calling the super() function in the subclass's __init__ method and passing in the subclass itself and its __init__ arguments."
   ]
  },
  {
   "cell_type": "markdown",
   "id": "f96366a5",
   "metadata": {},
   "source": [
    "4. How can you augment, instead of completely replacing, an inherited method?"
   ]
  },
  {
   "cell_type": "markdown",
   "id": "cf5c4a10",
   "metadata": {},
   "source": [
    "In object-oriented programming, when a subclass inherits a method from its superclass, it can choose to override or augment the method's behavior. Overriding a method completely replaces the inherited method with a new implementation in the subclass. However, sometimes you may want to add some functionality to the inherited method without completely replacing it. This can be achieved using method overriding and the super() function.\n",
    "\n",
    "The super() function can be used to call the parent class's method in the subclass. This means that we can call the inherited method and add extra functionality to it without completely replacing it."
   ]
  },
  {
   "cell_type": "markdown",
   "id": "9575a43a",
   "metadata": {},
   "source": [
    "5. How is the local scope of a class different from that of a function?"
   ]
  },
  {
   "cell_type": "markdown",
   "id": "728e37e2",
   "metadata": {},
   "source": [
    "In Python, a class is a blueprint for creating objects with shared attributes and methods, while a function is a block of code that performs a specific task.\n",
    "\n",
    "The local scope of a class is different from that of a function in several ways:\n",
    "\n",
    "Variables declared inside a class are class-level variables and are available throughout the class. They are accessed using the class name and are shared by all instances of the class. On the other hand, variables declared inside a function are local variables and are only available inside the function. They are not accessible outside the function.\n",
    "\n",
    "Class methods and attributes are defined within the class, but they are accessed using the class name and not an instance of the class. On the other hand, function variables are defined within the function and are accessed using the function name or an instance of the function.\n",
    "\n",
    "Class-level variables are defined at the class level and can be accessed by all methods within the class. On the other hand, function variables are defined within the function and can only be accessed by the function.\n",
    "\n",
    "In Python, classes can have class-level variables, instance variables, and local variables, while functions can only have local variables."
   ]
  },
  {
   "cell_type": "code",
   "execution_count": null,
   "id": "b5328459",
   "metadata": {},
   "outputs": [],
   "source": []
  },
  {
   "cell_type": "code",
   "execution_count": null,
   "id": "be9b25d9",
   "metadata": {},
   "outputs": [],
   "source": []
  }
 ],
 "metadata": {
  "kernelspec": {
   "display_name": "Python 3 (ipykernel)",
   "language": "python",
   "name": "python3"
  },
  "language_info": {
   "codemirror_mode": {
    "name": "ipython",
    "version": 3
   },
   "file_extension": ".py",
   "mimetype": "text/x-python",
   "name": "python",
   "nbconvert_exporter": "python",
   "pygments_lexer": "ipython3",
   "version": "3.10.9"
  }
 },
 "nbformat": 4,
 "nbformat_minor": 5
}
